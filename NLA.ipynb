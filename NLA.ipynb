{
 "cells": [
  {
   "cell_type": "code",
   "execution_count": 1,
   "metadata": {},
   "outputs": [],
   "source": [
    "import numpy as np\n",
    "import NLA # import numerical linear algebra module you wrote (see NLA.py)"
   ]
  },
  {
   "cell_type": "markdown",
   "metadata": {},
   "source": [
    "## Solve lower-triangular linear system (Forward Substitution)"
   ]
  },
  {
   "cell_type": "code",
   "execution_count": 2,
   "metadata": {},
   "outputs": [
    {
     "name": "stdout",
     "output_type": "stream",
     "text": [
      "L: \n",
      "[[  1.   0.   0.   0.   0.   0.   0.   0.   0.   0.]\n",
      " [-43.   1.   0.   0.   0.   0.   0.   0.   0.   0.]\n",
      " [ 43.  38.   1.   0.   0.   0.   0.   0.   0.   0.]\n",
      " [-30. -16.   3.   1.   0.   0.   0.   0.   0.   0.]\n",
      " [  0. -22.  -5.  -1.   1.   0.   0.   0.   0.   0.]\n",
      " [ 11. -21. -11.   4.  47.   1.   0.   0.   0.   0.]\n",
      " [ 45.   3.  18.  16. -22.   8.   1.   0.   0.   0.]\n",
      " [-19. -14.  -3. -10. -26.   5.  12.   1.   0.   0.]\n",
      " [-27.   9.  11. -40.  24.  24. -14.  -6.   1.   0.]\n",
      " [-49. -49. -32.   4. -25.   0. -41. -35. -19.   1.]]\n",
      "x: \n",
      "[-21  45 -28   9 -17  42   8 -49  27  22]\n",
      "b: \n",
      "[  -21.   948.   779.  -165.  -876. -1589.  -452.   462.  1113.  1077.]\n"
     ]
    }
   ],
   "source": [
    "# Generate data\n",
    "n = 10\n",
    "L = np.zeros((n,n))\n",
    "for i in range(n):\n",
    "    L[i,i] = 1\n",
    "    for j in range(i):\n",
    "        L[i,j] = np.random.randint(-50,50)\n",
    "x = np.random.randint(-50,50,n)\n",
    "b = L.dot(x)\n",
    "print('L: \\n{}'.format(L))\n",
    "print('x: \\n{}'.format(x))\n",
    "print('b: \\n{}'.format(b))"
   ]
  },
  {
   "cell_type": "code",
   "execution_count": 3,
   "metadata": {},
   "outputs": [
    {
     "name": "stdout",
     "output_type": "stream",
     "text": [
      "Computed solution: \n",
      "[-21.  45. -28.   9. -17.  42.   8. -49.  27.  22.]\n",
      "Computed true solution?: \n",
      "True\n"
     ]
    }
   ],
   "source": [
    "y = NLA.forward_sub(L,b)\n",
    "print('Computed solution: \\n{}'.format(y))\n",
    "print('Computed true solution?: \\n{}'.format(np.allclose(x,y,atol=1e-6)))"
   ]
  },
  {
   "cell_type": "markdown",
   "metadata": {},
   "source": [
    "## Solve upper-triangular linear system (Backward Substitution)"
   ]
  },
  {
   "cell_type": "code",
   "execution_count": 4,
   "metadata": {},
   "outputs": [
    {
     "name": "stdout",
     "output_type": "stream",
     "text": [
      "U: \n",
      "[[ 48.  42. -37.  44.   1.   9.  -9. -18.  32.  11.]\n",
      " [  0. -41.  -6.  11.  41. -29. -14. -48.  40.  19.]\n",
      " [  0.   0.   5. -47.  49.  40.  29. -13. -49.  -3.]\n",
      " [  0.   0.   0. -29.   7.   9.  44.  39.  19.  32.]\n",
      " [  0.   0.   0.   0. -20. -33.  -5. -19. -50.   9.]\n",
      " [  0.   0.   0.   0.   0.   2.  -3. -19.  28.  44.]\n",
      " [  0.   0.   0.   0.   0.   0.  19.  36. -42. -15.]\n",
      " [  0.   0.   0.   0.   0.   0.   0.  32. -16. -31.]\n",
      " [  0.   0.   0.   0.   0.   0.   0.   0. -32. -30.]\n",
      " [  0.   0.   0.   0.   0.   0.   0.   0.   0.  45.]]\n",
      "x: \n",
      "[  0  -4 -28 -16  40  37 -11 -18 -38  40]\n",
      "b: \n",
      "[  184.   981.  5709.   449.   636.  1145.   139. -1208.    16.  1800.]\n"
     ]
    }
   ],
   "source": [
    "# Generate data\n",
    "n = 10\n",
    "U = np.zeros((n,n))\n",
    "for i in range(n):\n",
    "    for j in range(i,n):\n",
    "        U[i,j] = np.random.randint(-50,50)\n",
    "x = np.random.randint(-50,50,n)\n",
    "b = U.dot(x)\n",
    "print('U: \\n{}'.format(U))\n",
    "print('x: \\n{}'.format(x))\n",
    "print('b: \\n{}'.format(b))"
   ]
  },
  {
   "cell_type": "code",
   "execution_count": 5,
   "metadata": {},
   "outputs": [
    {
     "name": "stdout",
     "output_type": "stream",
     "text": [
      "Computed solution: \n",
      "[  0.  -4. -28. -16.  40.  37. -11. -18. -38.  40.]\n",
      "Computed true solution?: \n",
      "True\n"
     ]
    }
   ],
   "source": [
    "y = NLA.backward_sub(U,b)\n",
    "print('Computed solution: \\n{}'.format(y))\n",
    "print('Computed true solution?: \\n{}'.format(np.allclose(x,y,atol=1e-6)))"
   ]
  },
  {
   "cell_type": "markdown",
   "metadata": {},
   "source": [
    "## Solve general linear system"
   ]
  },
  {
   "cell_type": "code",
   "execution_count": 6,
   "metadata": {},
   "outputs": [
    {
     "name": "stdout",
     "output_type": "stream",
     "text": [
      "A: \n",
      "[[ 36. -50. -30.   9.  30.  25.  25.  30.  27.  -1.]\n",
      " [ 38.  36.  45. -39.  -7.  -7.  18. -24. -14.   3.]\n",
      " [-19. -30.   7. -44.  -8. -40.  13.  -7. -44.  24.]\n",
      " [-30. -40.  45. -28.  46. -24.  26. -32.  -3.  16.]\n",
      " [ -2. -22. -31. -31.  37. -15. -29. -14.  23.  16.]\n",
      " [-34. -31.   7.  18.  43. -23.  -8.   2. -28. -14.]\n",
      " [-47. -15.  48.   2.  23.   2. -15.  49.  44.  11.]\n",
      " [ 45. -13. -34.  30.  47.   6. -15. -16.  35.  42.]\n",
      " [ 25. -42.  45.  25.   4.  46.   5. -22.  12.  25.]\n",
      " [-12.  43. -35.  -7. -38.  34.  21.   2. -34.   6.]]\n",
      "x: \n",
      "[ 34. -14.   1.  14.  14.   2. -44.  36.   4.  37.]\n",
      "b: \n",
      "[ 2541. -1426. -1139. -1927.  1719.  -113.  2021.  4546.  1942. -2373.]\n"
     ]
    }
   ],
   "source": [
    "# Generate data\n",
    "n = 10\n",
    "A = np.random.randint(-50,50,(n,n)).astype('float')\n",
    "x = np.random.randint(-50,50,n).astype('float')\n",
    "b = A.dot(x)\n",
    "print('A: \\n{}'.format(A))\n",
    "print('x: \\n{}'.format(x))\n",
    "print('b: \\n{}'.format(b))"
   ]
  },
  {
   "cell_type": "code",
   "execution_count": 7,
   "metadata": {},
   "outputs": [
    {
     "name": "stdout",
     "output_type": "stream",
     "text": [
      "Computed solution: \n",
      "[ 34. -14.   1.  14.  14.   2. -44.  36.   4.  37.]\n",
      "Computed true solution?: \n",
      "True\n"
     ]
    }
   ],
   "source": [
    "y = NLA.solve(A,b)\n",
    "print('Computed solution: \\n{}'.format(y))\n",
    "print('Computed true solution?: \\n{}'.format(np.allclose(x,y,atol=1e-6)))"
   ]
  },
  {
   "cell_type": "markdown",
   "metadata": {},
   "source": [
    "## QR"
   ]
  },
  {
   "cell_type": "code",
   "execution_count": 8,
   "metadata": {},
   "outputs": [
    {
     "name": "stdout",
     "output_type": "stream",
     "text": [
      "Data: \n",
      "[[-38. -49.  26. -31.]\n",
      " [-34.  47. -25.  16.]\n",
      " [-47. -37.  13.  21.]\n",
      " [  9. -50. -50. -38.]\n",
      " [ 46. -23. -45. -11.]\n",
      " [-41. -24.  20.  -6.]]\n"
     ]
    }
   ],
   "source": [
    "# Generate data\n",
    "n,m = 6,4\n",
    "A = np.random.randint(-50,50, (n,m)).astype('float')\n",
    "print('Data: \\n{}'.format(A))"
   ]
  },
  {
   "cell_type": "markdown",
   "metadata": {},
   "source": [
    "### Reduced QR factorization"
   ]
  },
  {
   "cell_type": "code",
   "execution_count": 9,
   "metadata": {},
   "outputs": [
    {
     "name": "stdout",
     "output_type": "stream",
     "text": [
      "Q factor: \n",
      "[[-0.40770749 -0.44025765  0.17877063 -0.49578551]\n",
      " [-0.36479091  0.5464478  -0.68833756 -0.11841961]\n",
      " [-0.50426979 -0.30017659 -0.09909007  0.77004277]\n",
      " [ 0.0965623  -0.53344244 -0.62169193 -0.2681182 ]\n",
      " [ 0.49354064 -0.31915793 -0.31114869  0.25747968]\n",
      " [-0.43989492 -0.17618004  0.03315511 -0.09499738]]\n",
      "R factor: \n",
      "[[ 93.20407716  15.86840453 -43.87147134 -10.24633288]\n",
      " [  0.          96.60328016   8.50043863  40.92607361]\n",
      " [  0.           0.          66.31769406   8.21181634]\n",
      " [  0.           0.           0.          37.5717345 ]]\n",
      "Columns of Q orthogonal?: \n",
      "True\n"
     ]
    }
   ],
   "source": [
    "Q,R = NLA.QR(A, reduced=True)\n",
    "print('Q factor: \\n{}'.format(Q))\n",
    "print('R factor: \\n{}'.format(R))\n",
    "check_cols = np.allclose(Q.T.dot(Q), np.eye(m))\n",
    "print('Columns of Q orthogonal?: \\n{}'.format(check_cols))"
   ]
  },
  {
   "cell_type": "markdown",
   "metadata": {},
   "source": [
    "### Full QR factorization"
   ]
  },
  {
   "cell_type": "code",
   "execution_count": 10,
   "metadata": {},
   "outputs": [
    {
     "name": "stdout",
     "output_type": "stream",
     "text": [
      "Q factor: \n",
      "[[-0.40770749 -0.44025765  0.17877063 -0.49578551  0.41701352  0.43391857]\n",
      " [-0.36479091  0.5464478  -0.68833756 -0.11841961  0.26246147  0.10772451]\n",
      " [-0.50426979 -0.30017659 -0.09909007  0.77004277 -0.07719698  0.21647614]\n",
      " [ 0.0965623  -0.53344244 -0.62169193 -0.2681182  -0.49719457 -0.02289587]\n",
      " [ 0.49354064 -0.31915793 -0.31114869  0.25747968  0.69327821 -0.10398022]\n",
      " [-0.43989492 -0.17618004  0.03315511 -0.09499738  0.15302684 -0.86134318]]\n",
      "R factor: \n",
      "[[ 93.20407716  15.86840453 -43.87147134 -10.24633288]\n",
      " [  0.          96.60328016   8.50043863  40.92607361]\n",
      " [  0.           0.          66.31769406   8.21181634]\n",
      " [  0.           0.           0.          37.5717345 ]\n",
      " [  0.           0.           0.           0.        ]\n",
      " [  0.           0.           0.           0.        ]]\n",
      "Columns of Q orthogonal?: \n",
      "True\n"
     ]
    }
   ],
   "source": [
    "Q,R = NLA.QR(A, reduced=False)\n",
    "print('Q factor: \\n{}'.format(Q))\n",
    "print('R factor: \\n{}'.format(R))\n",
    "check_cols = np.allclose(Q.T.dot(Q), np.eye(n))\n",
    "print('Columns of Q orthogonal?: \\n{}'.format(check_cols))"
   ]
  }
 ],
 "metadata": {
  "kernelspec": {
   "display_name": "Python 3",
   "language": "python",
   "name": "python3"
  },
  "language_info": {
   "codemirror_mode": {
    "name": "ipython",
    "version": 3
   },
   "file_extension": ".py",
   "mimetype": "text/x-python",
   "name": "python",
   "nbconvert_exporter": "python",
   "pygments_lexer": "ipython3",
   "version": "3.6.5"
  }
 },
 "nbformat": 4,
 "nbformat_minor": 2
}
