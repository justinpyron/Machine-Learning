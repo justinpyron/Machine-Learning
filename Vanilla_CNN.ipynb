{
 "cells": [
  {
   "cell_type": "code",
   "execution_count": 8,
   "metadata": {},
   "outputs": [],
   "source": [
    "import numpy as np\n",
    "import Vanilla_CNN\n",
    "import torch\n",
    "import torchvision\n",
    "import torch.optim as optim\n",
    "import torch.nn.functional as F\n",
    "import matplotlib.pyplot as plt"
   ]
  },
  {
   "cell_type": "markdown",
   "metadata": {},
   "source": [
    "# Construct dataset (MNIST)"
   ]
  },
  {
   "cell_type": "code",
   "execution_count": 2,
   "metadata": {},
   "outputs": [],
   "source": [
    "root = '/Users/justinpyron/Google Drive/Stanford/Miscellaneous_Python'\n",
    "mnist_train = torchvision.datasets.MNIST(root, train=True, transform=torchvision.transforms.ToTensor())\n",
    "mnist_test = torchvision.datasets.MNIST(root, train=False, transform=torchvision.transforms.ToTensor())\n",
    "\n",
    "subset_size = 5000\n",
    "train_set = torch.utils.data.Subset(mnist_train, range(subset_size))\n",
    "test_set = torch.utils.data.Subset(mnist_test, range(subset_size))\n"
   ]
  },
  {
   "cell_type": "code",
   "execution_count": 3,
   "metadata": {},
   "outputs": [],
   "source": [
    "train_loader = torch.utils.data.DataLoader(train_set,\n",
    "                                           batch_size=32,\n",
    "                                           shuffle=True,\n",
    "                                           num_workers=4)\n",
    "\n",
    "test_loader = torch.utils.data.DataLoader(test_set,\n",
    "                                          batch_size=32,\n",
    "                                          shuffle=True,\n",
    "                                          num_workers=4)\n"
   ]
  },
  {
   "cell_type": "markdown",
   "metadata": {},
   "source": [
    "# Construct model"
   ]
  },
  {
   "cell_type": "code",
   "execution_count": 4,
   "metadata": {},
   "outputs": [],
   "source": [
    "input_shape = (1,28,28)\n",
    "filter_list = [12,12,16]\n",
    "maxpool_list = [0,0,0]\n",
    "fc_list = [100, 50, 10]\n",
    "Conv_to_FC_method = 'flatten'\n",
    "dropout_prob = 0.4\n",
    "\n",
    "model = Vanilla_CNN.CNN(input_shape,\n",
    "                        filter_list,\n",
    "                        maxpool_list,\n",
    "                        fc_list,\n",
    "                        Conv_to_FC_method,\n",
    "                        dropout_prob)\n"
   ]
  },
  {
   "cell_type": "markdown",
   "metadata": {},
   "source": [
    "# Train model"
   ]
  },
  {
   "cell_type": "code",
   "execution_count": 20,
   "metadata": {},
   "outputs": [
    {
     "name": "stdout",
     "output_type": "stream",
     "text": [
      "Epoch 0 train accuracy: 0.931\n",
      "Epoch 0 test accuracy: 0.891\n",
      "\n",
      "\n",
      "Epoch 1 train accuracy: 0.939\n",
      "Epoch 1 test accuracy: 0.905\n",
      "\n",
      "\n",
      "Epoch 2 train accuracy: 0.945\n",
      "Epoch 2 test accuracy: 0.909\n",
      "\n",
      "\n",
      "Epoch 3 train accuracy: 0.952\n",
      "Epoch 3 test accuracy: 0.919\n",
      "\n",
      "\n",
      "Epoch 4 train accuracy: 0.961\n",
      "Epoch 4 test accuracy: 0.928\n",
      "\n",
      "\n",
      "Epoch 5 train accuracy: 0.954\n",
      "Epoch 5 test accuracy: 0.926\n",
      "\n",
      "\n",
      "Epoch 6 train accuracy: 0.964\n",
      "Epoch 6 test accuracy: 0.930\n",
      "\n",
      "\n",
      "Epoch 7 train accuracy: 0.962\n",
      "Epoch 7 test accuracy: 0.932\n",
      "\n",
      "\n",
      "Epoch 8 train accuracy: 0.970\n",
      "Epoch 8 test accuracy: 0.938\n",
      "\n",
      "\n",
      "Epoch 9 train accuracy: 0.953\n",
      "Epoch 9 test accuracy: 0.921\n",
      "\n",
      "\n"
     ]
    }
   ],
   "source": [
    "optimizer = optim.Adam(model.parameters(), weight_decay=1e-3)\n",
    "\n",
    "num_epoch = 10\n",
    "train_accuracy_list = list()\n",
    "test_accuracy_list = list()\n",
    "\n",
    "for epoch in range(num_epoch):\n",
    "\n",
    "    # Train model\n",
    "    for batch_idx, (images, labels) in enumerate(train_loader):\n",
    "        optimizer.zero_grad()\n",
    "        output = model(images)\n",
    "        loss = F.nll_loss(output, labels)\n",
    "        loss.backward()\n",
    "        optimizer.step()\n",
    "    \n",
    "    # Evaluate model\n",
    "    train_correct = 0\n",
    "    for batch_idx, (images, labels) in enumerate(train_loader):\n",
    "        output = model(images)\n",
    "        pred = output.max(dim=1)[1]\n",
    "        train_correct += (pred == labels).sum().float()\n",
    "    train_accuracy = train_correct/len(train_set)\n",
    "    train_accuracy_list.append(train_accuracy)\n",
    "\n",
    "    test_correct = 0\n",
    "    for batch_idx, (images, labels) in enumerate(test_loader):\n",
    "        output = model(images)\n",
    "        pred = output.max(dim=1)[1]\n",
    "        test_correct += (pred == labels).sum().float()\n",
    "    test_accuracy = test_correct/len(test_set)\n",
    "    test_accuracy_list.append(test_accuracy)\n",
    "        \n",
    "    print('Epoch {} train accuracy: {:.3f}'.format(epoch, train_accuracy))\n",
    "    print('Epoch {} test accuracy: {:.3f}'.format(epoch, test_accuracy))\n",
    "    print('\\n')\n"
   ]
  },
  {
   "cell_type": "markdown",
   "metadata": {},
   "source": [
    "# Plot training results"
   ]
  },
  {
   "cell_type": "code",
   "execution_count": 21,
   "metadata": {},
   "outputs": [
    {
     "data": {
      "image/png": "[encoded data removed]",
      "text/plain": [
       "<Figure size 432x288 with 1 Axes>"
      ]
     },
     "metadata": {
      "needs_background": "light"
     },
     "output_type": "display_data"
    }
   ],
   "source": [
    "plt.figure()\n",
    "plt.plot(train_accuracy_list, label='Train')\n",
    "plt.plot(test_accuracy_list, label='Test')\n",
    "plt.title('MNIST model')\n",
    "plt.xlabel('Epoch')\n",
    "plt.ylabel('Accuracy')\n",
    "plt.legend()\n",
    "plt.grid()\n",
    "plt.show()"
   ]
  },
  {
   "cell_type": "code",
   "execution_count": null,
   "metadata": {},
   "outputs": [],
   "source": []
  },
  {
   "cell_type": "code",
   "execution_count": null,
   "metadata": {},
   "outputs": [],
   "source": []
  }
 ],
 "metadata": {
  "kernelspec": {
   "display_name": "deep_learning",
   "language": "python",
   "name": "deep_learning"
  },
  "language_info": {
   "codemirror_mode": {
    "name": "ipython",
    "version": 3
   },
   "file_extension": ".py",
   "mimetype": "text/x-python",
   "name": "python",
   "nbconvert_exporter": "python",
   "pygments_lexer": "ipython3",
   "version": "3.7.2"
  }
 },
 "nbformat": 4,
 "nbformat_minor": 2
}
